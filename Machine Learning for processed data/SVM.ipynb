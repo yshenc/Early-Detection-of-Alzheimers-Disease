{
 "cells": [
  {
   "cell_type": "code",
   "execution_count": 1,
   "metadata": {},
   "outputs": [],
   "source": [
    "import pandas as pd  \n",
    "import numpy as np  \n",
    "import matplotlib.pyplot as plt  \n",
    "from sklearn.model_selection import train_test_split  \n",
    "from sklearn.svm import SVC  \n",
    "from sklearn import preprocessing\n",
    "from sklearn.metrics import classification_report, confusion_matrix, accuracy_score, f1_score \n",
    "from sklearn.preprocessing import StandardScaler\n",
    "from sklearn.decomposition import PCA\n",
    "from sklearn.ensemble import RandomForestClassifier\n",
    "%matplotlib inline\n",
    "import warnings\n",
    "warnings.filterwarnings(\"ignore\")\n",
    "\n",
    "def warn(*args, **kwargs): pass\n",
    "import warnings\n",
    "warnings.warn = warn\n",
    "from sklearn.model_selection import GridSearchCV\n",
    "from sklearn.metrics import accuracy_score, log_loss\n",
    "\n",
    "from sklearn.svm import SVC\n",
    "from sklearn import decomposition\n",
    "\n",
    "from sklearn.preprocessing import LabelEncoder\n",
    "from sklearn.cross_validation import StratifiedShuffleSplit"
   ]
  },
  {
   "cell_type": "code",
   "execution_count": 2,
   "metadata": {},
   "outputs": [],
   "source": [
    "#data = pd.read_csv(\"baseline_data.csv\").fillna(0)"
   ]
  },
  {
   "cell_type": "code",
   "execution_count": 3,
   "metadata": {},
   "outputs": [],
   "source": [
    "#for column in data.columns:\n",
    "#    if data[column].dtype == type(object):\n",
    "#        le = preprocessing.LabelEncoder()\n",
    "#        data[column] = le.fit_transform(data[column].astype(str))\n",
    "#data.head()"
   ]
  },
  {
   "cell_type": "code",
   "execution_count": 4,
   "metadata": {},
   "outputs": [],
   "source": [
    "#X = data.drop('DX.bl', axis=1)  \n",
    "#y = data['DX.bl']  "
   ]
  },
  {
   "cell_type": "code",
   "execution_count": 5,
   "metadata": {},
   "outputs": [],
   "source": [
    "import pandas as pd\n",
    "import numpy as np\n",
    "from sklearn.preprocessing import Imputer, LabelEncoder, StandardScaler, scale\n",
    "from sklearn.utils import resample\n",
    "\n",
    "df = pd.read_csv('./baseline_data.csv',header=0, low_memory=False)\n",
    "Catdata = df.loc[0:,'PTETHCAT':'APOE4'].join(df['PTGENDER']).join(df['imputed_genotype'])\n",
    "Numdata = df.loc[0:,:'Thickness..thickinthehead..2035'].join(df['AGE']).join(df['PTEDUCAT']).join(df['MMSE'])\n",
    "labels = df['DX.bl']\n",
    "\n",
    "for i in Catdata.columns:\n",
    "    the_value = str(Catdata[i].mode().values[0])\n",
    "    Catdata[i].replace('NaN',the_value,inplace = True)\n",
    "    dummy_data = pd.get_dummies(Catdata[i], prefix=i+\"_\", drop_first=True)\n",
    "    Catdata = pd.concat([Catdata, dummy_data], axis=1)\n",
    "    Catdata.drop(i, axis=1, inplace=True)\n",
    "\n",
    "le = LabelEncoder()\n",
    "le.fit(labels)\n",
    "labels = le.transform(labels)\n",
    "labels = labels.astype('float')\n",
    "\n",
    "\n",
    "\n",
    "data = Numdata.join(Catdata)\n",
    "data['labels'] = labels\n",
    "\n",
    "from sklearn.model_selection import train_test_split\n",
    "#X_train, X_test, y_train, y_test = ([],[],[],[])\n",
    "X_train, X_test, y_train, y_test = train_test_split(data.loc[:,:'imputed_genotype__True'], data['labels'], test_size = 0.2, random_state = 2018)\n",
    "scaler = StandardScaler()\n",
    "scaler.fit(X_train)\n",
    "X_train = pd.DataFrame(scaler.transform(X_train))\n",
    "X_test = scaler.transform(X_test)\n",
    "X_train['labels'] = np.array(y_train)\n",
    "\n",
    "from sklearn.utils import resample\n",
    "Xs_train = []\n",
    "Labels = []\n",
    "for _ in range(5):\n",
    "    d = resample(X_train,n_samples=502)\n",
    "    Xs_train.append(d.iloc[:,:-1])\n",
    "    Labels.append(d['labels'])\n",
    "from sklearn.model_selection import train_test_split\n",
    "scaler = StandardScaler()\n",
    "scaler.fit(data)\n",
    "data = pd.DataFrame(scaler.transform(data))\n",
    "#labels = pd.DataFrame(labels)"
   ]
  },
  {
   "cell_type": "code",
   "execution_count": 6,
   "metadata": {},
   "outputs": [
    {
     "data": {
      "image/png": "[encoded data removed]",
      "text/plain": [
       "<Figure size 432x288 with 1 Axes>"
      ]
     },
     "metadata": {},
     "output_type": "display_data"
    }
   ],
   "source": [
    "pca = PCA().fit(data)\n",
    "#Plotting the Cumulative Summation of the Explained Variance\n",
    "plt.figure()\n",
    "plt.plot(np.cumsum(pca.explained_variance_ratio_))\n",
    "plt.xlabel('Number of Components')\n",
    "plt.ylabel('Variance (%)') #for each component\n",
    "#plt.title('Diabetes Dataset Explained Variance')\n",
    "plt.show()"
   ]
  },
  {
   "cell_type": "code",
   "execution_count": 7,
   "metadata": {},
   "outputs": [],
   "source": [
    "pca = PCA(n_components=300)\n",
    "dataset=pca.fit_transform(data)\n",
    "principalDf = pd.DataFrame(data = dataset)"
   ]
  },
  {
   "cell_type": "code",
   "execution_count": 8,
   "metadata": {},
   "outputs": [],
   "source": [
    "#X_train, X_test, y_train, y_test = train_test_split(X, y,stratify=y, test_size=0.2, random_state=0)  "
   ]
  },
  {
   "cell_type": "code",
   "execution_count": 9,
   "metadata": {},
   "outputs": [],
   "source": [
    "#X_train, X_test, y_train, y_test = train_test_split(principalDf,labels,test_size=0.20,random_state=100)"
   ]
  },
  {
   "cell_type": "code",
   "execution_count": 10,
   "metadata": {},
   "outputs": [],
   "source": [
    "X_train, X_test, y_train, y_test = train_test_split(data, labels, test_size = 0.2, random_state = 100)"
   ]
  },
  {
   "cell_type": "code",
   "execution_count": null,
   "metadata": {},
   "outputs": [
    {
     "name": "stdout",
     "output_type": "stream",
     "text": [
      "# Tuning hyper-parameters for precision\n",
      "\n"
     ]
    }
   ],
   "source": [
    "## Do Not Run This\n",
    "\n",
    "tuned_parameters = [{'kernel': ['rbf'], 'gamma': [1e-2, 1e-3, 1e-4, 1e-5],\n",
    "                     'C': [0.001, 0.10, 0.1, 10, 25, 50, 100, 1000]},\n",
    "                    {'kernel': ['sigmoid'], 'gamma': [1e-2, 1e-3, 1e-4, 1e-5],\n",
    "                     'C': [0.001, 0.10, 0.1, 10, 25, 50, 100, 1000]},\n",
    "                    {'kernel': ['linear'], 'C': [0.001, 0.10, 0.1, 10, 25, 50, 100, 1000]}\n",
    "                   ]\n",
    "\n",
    "scores = ['precision', 'recall']\n",
    "\n",
    "for score in scores:\n",
    "    print(\"# Tuning hyper-parameters for %s\" % score)\n",
    "    print()\n",
    "\n",
    "    clf = GridSearchCV(SVC(C=1), tuned_parameters, cv=5,\n",
    "                       scoring='%s_macro' % score)\n",
    "    clf.fit(train_t, y_train)\n",
    "\n",
    "    print(\"Best parameters set found on development set:\")\n",
    "    print()\n",
    "    print(clf.best_params_)\n",
    "    print()\n",
    "    print(\"Grid scores on development set:\")\n",
    "    print()\n",
    "    means = clf.cv_results_['mean_test_score']\n",
    "    stds = clf.cv_results_['std_test_score']\n",
    "    for mean, std, params in zip(means, stds, clf.cv_results_['params']):\n",
    "        print(\"%0.3f (+/-%0.03f) for %r\"\n",
    "              % (mean, std * 2, params))\n",
    "    print()\n"
   ]
  },
  {
   "cell_type": "code",
   "execution_count": 46,
   "metadata": {},
   "outputs": [],
   "source": [
    "#clf.best_params_\n",
    "\n",
    "### Best parameters are C=10, kernel=\"linear\" "
   ]
  },
  {
   "cell_type": "code",
   "execution_count": 11,
   "metadata": {},
   "outputs": [
    {
     "data": {
      "text/plain": [
       "SVC(C=10, cache_size=200, class_weight=None, coef0=0.0,\n",
       "  decision_function_shape='ovr', degree=3, gamma='auto', kernel='linear',\n",
       "  max_iter=-1, probability=True, random_state=None, shrinking=True,\n",
       "  tol=0.001, verbose=False)"
      ]
     },
     "execution_count": 11,
     "metadata": {},
     "output_type": "execute_result"
    }
   ],
   "source": [
    "my_svm = SVC(C =10,kernel=\"linear\", probability=True)\n",
    "my_svm.fit(X_train, y_train)"
   ]
  },
  {
   "cell_type": "code",
   "execution_count": 12,
   "metadata": {},
   "outputs": [],
   "source": [
    "predictions_train = my_svm.predict(X_train)\n",
    "predictions_test = my_svm.predict(X_test)"
   ]
  },
  {
   "cell_type": "code",
   "execution_count": 13,
   "metadata": {},
   "outputs": [
    {
     "name": "stdout",
     "output_type": "stream",
     "text": [
      "Confusion Matrix for SVM on training dataset\n",
      "[[106   0   0]\n",
      " [  0 151   0]\n",
      " [  0   0 245]]\n",
      "Accuracy of logit1.0\n",
      "F1 Score OF logit1.0\n",
      "             precision    recall  f1-score   support\n",
      "\n",
      "        0.0       1.00      1.00      1.00       106\n",
      "        1.0       1.00      1.00      1.00       151\n",
      "        2.0       1.00      1.00      1.00       245\n",
      "\n",
      "avg / total       1.00      1.00      1.00       502\n",
      "\n"
     ]
    }
   ],
   "source": [
    "print(\"Confusion Matrix for SVM on training dataset\")\n",
    "conf_matrix_train=confusion_matrix(y_train,predictions_train)\n",
    "print(conf_matrix_train)\n",
    "accuracy=accuracy_score(y_train, predictions_train)\n",
    "f1_Score=f1_score(y_train, predictions_train, average='micro')\n",
    "print(\"Accuracy of logit{}\".format(accuracy))\n",
    "print(\"F1 Score OF logit{}\".format(f1_Score))\n",
    "\n",
    "matrix_report=classification_report(y_train,predictions_train) \n",
    "print(matrix_report)\n",
    "\n",
    "#print(\"ROC\", roc_auc_score(y_train,predictions_train))"
   ]
  },
  {
   "cell_type": "code",
   "execution_count": 14,
   "metadata": {},
   "outputs": [
    {
     "name": "stdout",
     "output_type": "stream",
     "text": [
      "Confusion Matrix for SVM on Testing dataset\n",
      "[[19  1  7]\n",
      " [ 1 21 17]\n",
      " [ 3 11 46]]\n",
      "Accuracy of logit0.6825396825396826\n",
      "F1 Score OF logit 0.6825396825396826\n",
      "             precision    recall  f1-score   support\n",
      "\n",
      "        0.0       0.83      0.70      0.76        27\n",
      "        1.0       0.64      0.54      0.58        39\n",
      "        2.0       0.66      0.77      0.71        60\n",
      "\n",
      "avg / total       0.69      0.68      0.68       126\n",
      "\n"
     ]
    }
   ],
   "source": [
    "print(\"Confusion Matrix for SVM on Testing dataset\")\n",
    "conf_matrix_test=confusion_matrix(y_test,predictions_test)\n",
    "print(conf_matrix_test)\n",
    "accuracy=accuracy_score(y_test, predictions_test)\n",
    "f1_Score=f1_score(y_test, predictions_test, average='micro')\n",
    "print(\"Accuracy of logit{}\".format(accuracy))\n",
    "print(\"F1 Score OF logit {}\".format(f1_Score))\n",
    "\n",
    "matrix_report=classification_report(y_test,predictions_test) \n",
    "print(matrix_report)\n",
    "\n",
    "#print(\"ROC\",roc_auc_score(y_test,predictions_test))"
   ]
  },
  {
   "cell_type": "code",
   "execution_count": 18,
   "metadata": {},
   "outputs": [
    {
     "name": "stdout",
     "output_type": "stream",
     "text": [
      "Mean of: 0.699, std: (+/-) 0.056 [SVC]\n",
      "Mean of: 0.486, std: (+/-) 0.003 [Bagging SVC]\n",
      "\n"
     ]
    }
   ],
   "source": [
    "from sklearn.model_selection import cross_val_score\n",
    "from sklearn.ensemble import BaggingClassifier\n",
    "from sklearn.svm import SVC\n",
    "seed = 1075\n",
    "np.random.seed(seed)\n",
    "# Create SVM classifier\n",
    "\n",
    "svc = SVC(C =10,kernel=\"linear\", probability=True)\n",
    "clf_array = [svc]\n",
    "for clf in clf_array:\n",
    "    vanilla_scores = cross_val_score(clf, data, labels, cv=10, n_jobs=-1)\n",
    "    bagging_clf = BaggingClassifier(clf, \n",
    "       max_samples=0.4, max_features=10, random_state=seed)\n",
    "    bagging_scores = cross_val_score(bagging_clf, data, labels, cv=10, \n",
    "       n_jobs=-1)\n",
    "    \n",
    "    print (\"Mean of: {1:.3f}, std: (+/-) {2:.3f} [{0}]\"  \n",
    "                       .format(clf.__class__.__name__, \n",
    "                       vanilla_scores.mean(), vanilla_scores.std()))\n",
    "    print (\"Mean of: {1:.3f}, std: (+/-) {2:.3f} [Bagging {0}]\\n\"\n",
    "                       .format(clf.__class__.__name__, \n",
    "                        bagging_scores.mean(), bagging_scores.std()))"
   ]
  },
  {
   "cell_type": "code",
   "execution_count": null,
   "metadata": {},
   "outputs": [],
   "source": []
  }
 ],
 "metadata": {
  "kernelspec": {
   "display_name": "Python 3",
   "language": "python",
   "name": "python3"
  },
  "language_info": {
   "codemirror_mode": {
    "name": "ipython",
    "version": 3
   },
   "file_extension": ".py",
   "mimetype": "text/x-python",
   "name": "python",
   "nbconvert_exporter": "python",
   "pygments_lexer": "ipython3",
   "version": "3.6.5"
  }
 },
 "nbformat": 4,
 "nbformat_minor": 2
}
